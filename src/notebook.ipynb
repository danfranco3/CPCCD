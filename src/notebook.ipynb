{
 "cells": [
  {
   "cell_type": "code",
   "execution_count": 27,
   "metadata": {},
   "outputs": [],
   "source": [
    "from datasets import load_dataset, Dataset\n",
    "import pandas as pd\n",
    "\n",
    "ds = load_dataset(\"christopher/rosetta-code\", split='train')\n",
    "df = Dataset.to_pandas(ds)"
   ]
  },
  {
   "cell_type": "code",
   "execution_count": 152,
   "metadata": {},
   "outputs": [],
   "source": [
    "def get_language_subsets(df: pd.DataFrame, lang1: str, lang2: str):\n",
    "    df1 = df[df['language_name'] == lang1]\n",
    "    df2 = df[df['language_name'] == lang2]\n",
    "    \n",
    "    subset1 = df1[df1['task_name'].isin(df2['task_name'])].sort_values('task_name')\n",
    "    subset2 = df2[df2['task_name'].isin(df1['task_name'])].sort_values('task_name')\n",
    "    \n",
    "    # Remove comments\n",
    "    subset1 = subset1.loc[subset1['task_name'] != 'Comments']\n",
    "    subset2 = subset2.loc[subset2['task_name'] != 'Comments']\n",
    "    \n",
    "    return subset1, subset2\n",
    "\n",
    "\n",
    "def select_code_clones(df: pd.DataFrame, lang1: str, lang2: str, n_clones=10, random_state=0) -> pd.DataFrame:\n",
    "    \n",
    "    subset_1, subset_2 = get_language_subsets(df, lang1, lang2)\n",
    "    \n",
    "    sampled_1 = subset_1.sample(n=n_clones, random_state=random_state)\n",
    "    sampled_2 = subset_2[subset_2['task_name'].isin(sampled_1['task_name'])]\n",
    "\n",
    "    sampled_1 = sampled_1[['task_name', 'code']].rename(columns={'code': 'code_1'})\n",
    "    sampled_2 = sampled_2[['task_name', 'code']].rename(columns={'code': 'code_2'})\n",
    "\n",
    "    combined_df = pd.merge(sampled_1, sampled_2, on='task_name')\n",
    "\n",
    "    combined_df = combined_df.sort_values('task_name').reset_index(drop=True)\n",
    "\n",
    "    return combined_df\n"
   ]
  },
  {
   "cell_type": "code",
   "execution_count": 153,
   "metadata": {},
   "outputs": [],
   "source": [
    "java_fortran_clones = select_code_clones(df, 'Java', 'Fortran')\n",
    "python_cobol_clones = select_code_clones(df, 'Python', 'COBOL')\n",
    "js_pascal_clones = select_code_clones(df, 'JavaScript', 'Free Pascal')"
   ]
  },
  {
   "cell_type": "code",
   "execution_count": 2,
   "metadata": {},
   "outputs": [],
   "source": [
    "# Experimental setup\n",
    "\n",
    "# https://huggingface.co/Salesforce/codet5p-770m\n",
    "# https://github.com/lairikeqiA/ZC3\n",
    "\n",
    "from transformers import RobertaTokenizer, RobertaModel\n",
    "\n",
    "tokenizer = RobertaTokenizer.from_pretrained(\"microsoft/codebert-base\")\n",
    "model = RobertaModel.from_pretrained(\"microsoft/codebert-base\")"
   ]
  },
  {
   "cell_type": "code",
   "execution_count": null,
   "metadata": {},
   "outputs": [],
   "source": [
    "# Zero-shot evaluation"
   ]
  }
 ],
 "metadata": {
  "kernelspec": {
   "display_name": ".venv",
   "language": "python",
   "name": "python3"
  },
  "language_info": {
   "codemirror_mode": {
    "name": "ipython",
    "version": 3
   },
   "file_extension": ".py",
   "mimetype": "text/x-python",
   "name": "python",
   "nbconvert_exporter": "python",
   "pygments_lexer": "ipython3",
   "version": "3.11.0"
  }
 },
 "nbformat": 4,
 "nbformat_minor": 2
}
